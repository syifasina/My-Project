{
 "cells": [
  {
   "cell_type": "code",
   "execution_count": 32,
   "metadata": {},
   "outputs": [],
   "source": [
    "import pandas as pd"
   ]
  },
  {
   "cell_type": "code",
   "execution_count": 33,
   "metadata": {},
   "outputs": [],
   "source": [
    "import requests"
   ]
  },
  {
   "cell_type": "code",
   "execution_count": 34,
   "metadata": {},
   "outputs": [],
   "source": [
    "import json"
   ]
  },
  {
   "cell_type": "code",
   "execution_count": 35,
   "metadata": {},
   "outputs": [
    {
     "data": {
      "text/plain": [
       "<Response [200]>"
      ]
     },
     "execution_count": 35,
     "metadata": {},
     "output_type": "execute_result"
    }
   ],
   "source": [
    "r = requests.get(\"https://data.covid19.go.id/public/api/update.json\")\n",
    "r"
   ]
  },
  {
   "cell_type": "code",
   "execution_count": 36,
   "metadata": {},
   "outputs": [],
   "source": [
    "data = r.json()"
   ]
  },
  {
   "cell_type": "code",
   "execution_count": 41,
   "metadata": {},
   "outputs": [],
   "source": [
    "df = pd.json_normalize(data, sep= \" \")"
   ]
  },
  {
   "cell_type": "code",
   "execution_count": 42,
   "metadata": {},
   "outputs": [
    {
     "data": {
      "text/html": [
       "<div>\n",
       "<style scoped>\n",
       "    .dataframe tbody tr th:only-of-type {\n",
       "        vertical-align: middle;\n",
       "    }\n",
       "\n",
       "    .dataframe tbody tr th {\n",
       "        vertical-align: top;\n",
       "    }\n",
       "\n",
       "    .dataframe thead th {\n",
       "        text-align: right;\n",
       "    }\n",
       "</style>\n",
       "<table border=\"1\" class=\"dataframe\">\n",
       "  <thead>\n",
       "    <tr style=\"text-align: right;\">\n",
       "      <th></th>\n",
       "      <th>data id</th>\n",
       "      <th>data jumlah_odp</th>\n",
       "      <th>data jumlah_pdp</th>\n",
       "      <th>data total_spesimen</th>\n",
       "      <th>data total_spesimen_negatif</th>\n",
       "      <th>update penambahan jumlah_positif</th>\n",
       "      <th>update penambahan jumlah_meninggal</th>\n",
       "      <th>update penambahan jumlah_sembuh</th>\n",
       "      <th>update penambahan jumlah_dirawat</th>\n",
       "      <th>update penambahan tanggal</th>\n",
       "      <th>update penambahan created</th>\n",
       "      <th>update harian</th>\n",
       "      <th>update total jumlah_positif</th>\n",
       "      <th>update total jumlah_dirawat</th>\n",
       "      <th>update total jumlah_sembuh</th>\n",
       "      <th>update total jumlah_meninggal</th>\n",
       "    </tr>\n",
       "  </thead>\n",
       "  <tbody>\n",
       "    <tr>\n",
       "      <th>0</th>\n",
       "      <td>1</td>\n",
       "      <td>57043</td>\n",
       "      <td>0</td>\n",
       "      <td>4790024</td>\n",
       "      <td>2643002</td>\n",
       "      <td>3880</td>\n",
       "      <td>74</td>\n",
       "      <td>3881</td>\n",
       "      <td>-75</td>\n",
       "      <td>2020-11-08</td>\n",
       "      <td>2020-11-08 15:56:49</td>\n",
       "      <td>[{'key_as_string': '2020-03-02T00:00:00.000Z',...</td>\n",
       "      <td>437716</td>\n",
       "      <td>54804</td>\n",
       "      <td>368298</td>\n",
       "      <td>14614</td>\n",
       "    </tr>\n",
       "  </tbody>\n",
       "</table>\n",
       "</div>"
      ],
      "text/plain": [
       "   data id  data jumlah_odp  data jumlah_pdp  data total_spesimen  \\\n",
       "0        1            57043                0              4790024   \n",
       "\n",
       "   data total_spesimen_negatif  update penambahan jumlah_positif  \\\n",
       "0                      2643002                              3880   \n",
       "\n",
       "   update penambahan jumlah_meninggal  update penambahan jumlah_sembuh  \\\n",
       "0                                  74                             3881   \n",
       "\n",
       "   update penambahan jumlah_dirawat update penambahan tanggal  \\\n",
       "0                               -75                2020-11-08   \n",
       "\n",
       "  update penambahan created  \\\n",
       "0       2020-11-08 15:56:49   \n",
       "\n",
       "                                       update harian  \\\n",
       "0  [{'key_as_string': '2020-03-02T00:00:00.000Z',...   \n",
       "\n",
       "   update total jumlah_positif  update total jumlah_dirawat  \\\n",
       "0                       437716                        54804   \n",
       "\n",
       "   update total jumlah_sembuh  update total jumlah_meninggal  \n",
       "0                      368298                          14614  "
      ]
     },
     "execution_count": 42,
     "metadata": {},
     "output_type": "execute_result"
    }
   ],
   "source": [
    "df.head()"
   ]
  },
  {
   "cell_type": "code",
   "execution_count": 25,
   "metadata": {},
   "outputs": [
    {
     "name": "stdout",
     "output_type": "stream",
     "text": [
      "Collecting matplotlib\n",
      "  Downloading matplotlib-3.3.2-cp38-cp38-win_amd64.whl (8.5 MB)\n",
      "Collecting pillow>=6.2.0\n",
      "  Downloading Pillow-8.0.1-cp38-cp38-win_amd64.whl (2.1 MB)\n",
      "Collecting kiwisolver>=1.0.1\n",
      "  Downloading kiwisolver-1.3.1-cp38-cp38-win_amd64.whl (51 kB)\n",
      "Requirement already satisfied: numpy>=1.15 in c:\\users\\windows10\\miniconda3\\lib\\site-packages (from matplotlib) (1.19.4)\n",
      "Requirement already satisfied: certifi>=2020.06.20 in c:\\users\\windows10\\miniconda3\\lib\\site-packages (from matplotlib) (2020.6.20)\n",
      "Requirement already satisfied: pyparsing!=2.0.4,!=2.1.2,!=2.1.6,>=2.0.3 in c:\\users\\windows10\\miniconda3\\lib\\site-packages (from matplotlib) (2.4.7)\n",
      "Requirement already satisfied: python-dateutil>=2.1 in c:\\users\\windows10\\miniconda3\\lib\\site-packages (from matplotlib) (2.8.1)\n",
      "Collecting cycler>=0.10\n",
      "  Downloading cycler-0.10.0-py2.py3-none-any.whl (6.5 kB)\n",
      "Requirement already satisfied: six>=1.5 in c:\\users\\windows10\\miniconda3\\lib\\site-packages (from python-dateutil>=2.1->matplotlib) (1.14.0)\n",
      "Installing collected packages: pillow, kiwisolver, cycler, matplotlib\n",
      "Successfully installed cycler-0.10.0 kiwisolver-1.3.1 matplotlib-3.3.2 pillow-8.0.1\n"
     ]
    }
   ],
   "source": [
    "!pip install matplotlib"
   ]
  },
  {
   "cell_type": "code",
   "execution_count": 28,
   "metadata": {},
   "outputs": [],
   "source": [
    "import matplotlib as plt"
   ]
  },
  {
   "cell_type": "code",
   "execution_count": 29,
   "metadata": {},
   "outputs": [],
   "source": [
    "from matplotlib import pyplot"
   ]
  },
  {
   "cell_type": "code",
   "execution_count": 30,
   "metadata": {},
   "outputs": [
    {
     "data": {
      "text/plain": [
       "Text(0.5, 1.0, 'Jumlah Positif')"
      ]
     },
     "execution_count": 30,
     "metadata": {},
     "output_type": "execute_result"
    },
    {
     "data": {
      "image/png": "[encoded data removed]",
      "text/plain": [
       "<Figure size 432x288 with 1 Axes>"
      ]
     },
     "metadata": {
      "needs_background": "light"
     },
     "output_type": "display_data"
    }
   ],
   "source": [
    "plt.pyplot.hist(df[\"update total jumlah_positif\"])\n",
    "\n",
    "# set x/y labels and plot title\n",
    "plt.pyplot.xlabel(\"update total jumlah_positif\")\n",
    "plt.pyplot.ylabel(\"count\")\n",
    "plt.pyplot.title(\"Jumlah Positif\")"
   ]
  },
  {
   "cell_type": "code",
   "execution_count": null,
   "metadata": {},
   "outputs": [],
   "source": []
  }
 ],
 "metadata": {
  "kernelspec": {
   "display_name": "Python 3",
   "language": "python",
   "name": "python3"
  },
  "language_info": {
   "codemirror_mode": {
    "name": "ipython",
    "version": 3
   },
   "file_extension": ".py",
   "mimetype": "text/x-python",
   "name": "python",
   "nbconvert_exporter": "python",
   "pygments_lexer": "ipython3",
   "version": "3.8.3"
  }
 },
 "nbformat": 4,
 "nbformat_minor": 4
}
