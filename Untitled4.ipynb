{
 "cells": [
  {
   "cell_type": "code",
   "execution_count": 4,
   "metadata": {},
   "outputs": [
    {
     "name": "stdout",
     "output_type": "stream",
     "text": [
      "Collecting dash\n",
      "  Downloading dash-1.17.0.tar.gz (75 kB)\n",
      "Collecting Flask>=1.0.2\n",
      "  Downloading Flask-1.1.2-py2.py3-none-any.whl (94 kB)\n",
      "Collecting flask-compress\n",
      "  Downloading Flask-Compress-1.8.0.tar.gz (10 kB)\n",
      "Collecting plotly\n",
      "  Downloading plotly-4.12.0-py2.py3-none-any.whl (13.1 MB)\n",
      "Collecting dash_renderer==1.8.3\n",
      "  Downloading dash_renderer-1.8.3.tar.gz (1.0 MB)\n",
      "Collecting dash-core-components==1.13.0\n",
      "  Downloading dash_core_components-1.13.0.tar.gz (3.5 MB)\n",
      "Collecting dash-html-components==1.1.1\n",
      "  Downloading dash_html_components-1.1.1.tar.gz (188 kB)\n",
      "Collecting dash-table==4.11.0\n",
      "  Downloading dash_table-4.11.0.tar.gz (1.8 MB)\n",
      "Collecting future\n",
      "  Downloading future-0.18.2.tar.gz (829 kB)\n",
      "Requirement already satisfied: Jinja2>=2.10.1 in c:\\users\\windows10\\miniconda3\\lib\\site-packages (from Flask>=1.0.2->dash) (2.11.2)\n",
      "Collecting itsdangerous>=0.24\n",
      "  Downloading itsdangerous-1.1.0-py2.py3-none-any.whl (16 kB)\n",
      "Collecting click>=5.1\n",
      "  Downloading click-7.1.2-py2.py3-none-any.whl (82 kB)\n",
      "Collecting Werkzeug>=0.15\n",
      "  Downloading Werkzeug-1.0.1-py2.py3-none-any.whl (298 kB)\n",
      "Collecting brotli\n",
      "  Downloading Brotli-1.0.9-cp38-cp38-win_amd64.whl (365 kB)\n",
      "Requirement already satisfied: six in c:\\users\\windows10\\miniconda3\\lib\\site-packages (from plotly->dash) (1.14.0)\n",
      "Collecting retrying>=1.3.3\n",
      "  Downloading retrying-1.3.3.tar.gz (10 kB)\n",
      "Requirement already satisfied: MarkupSafe>=0.23 in c:\\users\\windows10\\miniconda3\\lib\\site-packages (from Jinja2>=2.10.1->Flask>=1.0.2->dash) (1.1.1)\n",
      "Building wheels for collected packages: dash, flask-compress, dash-renderer, dash-core-components, dash-html-components, dash-table, future, retrying\n",
      "  Building wheel for dash (setup.py): started\n",
      "  Building wheel for dash (setup.py): finished with status 'done'\n",
      "  Created wheel for dash: filename=dash-1.17.0-py3-none-any.whl size=83730 sha256=3c2de185ce996f7dadc1a7057ccd4fc06c0aba6d46fe7a4ea2a945630305b783\n",
      "  Stored in directory: c:\\users\\windows10\\appdata\\local\\pip\\cache\\wheels\\fc\\16\\5c\\549c935a88b11f2340725457d3135bc1d0900757fec1b98031\n",
      "  Building wheel for flask-compress (setup.py): started\n",
      "  Building wheel for flask-compress (setup.py): finished with status 'done'\n",
      "  Created wheel for flask-compress: filename=Flask_Compress-1.8.0-py3-none-any.whl size=7221 sha256=8b7d9691e4d242989f3b265321fc736350cc34ed3ce9d3c32de8e5ff83697504\n",
      "  Stored in directory: c:\\users\\windows10\\appdata\\local\\pip\\cache\\wheels\\93\\bd\\ef\\e80d536d859386e52785128d4257565af4a0643b1d98376e15\n",
      "  Building wheel for dash-renderer (setup.py): started\n",
      "  Building wheel for dash-renderer (setup.py): finished with status 'done'\n",
      "  Created wheel for dash-renderer: filename=dash_renderer-1.8.3-py3-none-any.whl size=1013946 sha256=c4452d603a818444e9f4964e804282b637c90ad510f0f1c40b2ad8e732f88307\n",
      "  Stored in directory: c:\\users\\windows10\\appdata\\local\\pip\\cache\\wheels\\82\\4d\\8c\\0764de014b25313cf54199f212bad4fb4b228ecfaef58be3b9\n",
      "  Building wheel for dash-core-components (setup.py): started\n",
      "  Building wheel for dash-core-components (setup.py): finished with status 'done'\n",
      "  Created wheel for dash-core-components: filename=dash_core_components-1.13.0-py3-none-any.whl size=3513146 sha256=37d1a40a309aaeeaa5fbb131214333b1f1961234440b6bbd94677fe27a9177b5\n",
      "  Stored in directory: c:\\users\\windows10\\appdata\\local\\pip\\cache\\wheels\\42\\a5\\88\\62859b46d766dd1089b37ff67fc4286053f6047df9aa33f47e\n",
      "  Building wheel for dash-html-components (setup.py): started\n",
      "  Building wheel for dash-html-components (setup.py): finished with status 'done'\n",
      "  Created wheel for dash-html-components: filename=dash_html_components-1.1.1-py3-none-any.whl size=427900 sha256=f5f4a03317b4dad2775d0764c86f2948a5cf52299fed5079806122405829bac2\n",
      "  Stored in directory: c:\\users\\windows10\\appdata\\local\\pip\\cache\\wheels\\ed\\fc\\1c\\f68ef111763cc328876457a871024052e0b48950c63bc1ac04\n",
      "  Building wheel for dash-table (setup.py): started\n",
      "  Building wheel for dash-table (setup.py): finished with status 'done'\n",
      "  Created wheel for dash-table: filename=dash_table-4.11.0-py3-none-any.whl size=1839771 sha256=64e0b9242f1b9ab54205bba1b8fb18379fa7cb6c38e154f4354f29b06952323f\n",
      "  Stored in directory: c:\\users\\windows10\\appdata\\local\\pip\\cache\\wheels\\b0\\25\\0d\\252a5ffb11ea2591b8f4916d9e5f39d53be07aab11f66d58e5\n",
      "  Building wheel for future (setup.py): started\n",
      "  Building wheel for future (setup.py): finished with status 'done'\n",
      "  Created wheel for future: filename=future-0.18.2-py3-none-any.whl size=491062 sha256=c64705566533b3445cc879d746f71eddebc32befcc6138cad364bd6b079a0f01\n",
      "  Stored in directory: c:\\users\\windows10\\appdata\\local\\pip\\cache\\wheels\\8e\\70\\28\\3d6ccd6e315f65f245da085482a2e1c7d14b90b30f239e2cf4\n",
      "  Building wheel for retrying (setup.py): started\n",
      "  Building wheel for retrying (setup.py): finished with status 'done'\n",
      "  Created wheel for retrying: filename=retrying-1.3.3-py3-none-any.whl size=11435 sha256=a73620523573952a056d859e59aa8035e98c90ba6bb96a0957c251bfa140e472\n",
      "  Stored in directory: c:\\users\\windows10\\appdata\\local\\pip\\cache\\wheels\\c4\\a7\\48\\0a434133f6d56e878ca511c0e6c38326907c0792f67b476e56\n",
      "Successfully built dash flask-compress dash-renderer dash-core-components dash-html-components dash-table future retrying\n",
      "Installing collected packages: itsdangerous, click, Werkzeug, Flask, brotli, flask-compress, retrying, plotly, dash-renderer, dash-core-components, dash-html-components, dash-table, future, dash\n",
      "Successfully installed Flask-1.1.2 Werkzeug-1.0.1 brotli-1.0.9 click-7.1.2 dash-1.17.0 dash-core-components-1.13.0 dash-html-components-1.1.1 dash-renderer-1.8.3 dash-table-4.11.0 flask-compress-1.8.0 future-0.18.2 itsdangerous-1.1.0 plotly-4.12.0 retrying-1.3.3\n"
     ]
    }
   ],
   "source": [
    "!pip install dash"
   ]
  },
  {
   "cell_type": "code",
   "execution_count": 5,
   "metadata": {},
   "outputs": [],
   "source": [
    "import dash\n",
    "import dash_core_components as dcc \n",
    "import dash_html_components as html \n",
    "from dash.dependencies import Input, Output\n",
    "import pandas as pd\n",
    "import numpy as np\n",
    "import plotly.graph_objects as go\n",
    "import plotly.express as px\n",
    "import datetime"
   ]
  },
  {
   "cell_type": "code",
   "execution_count": 7,
   "metadata": {},
   "outputs": [],
   "source": [
    "import pandas as pd\n",
    "import numpy as np"
   ]
  },
  {
   "cell_type": "code",
   "execution_count": 8,
   "metadata": {},
   "outputs": [],
   "source": [
    "import requests\n",
    "import json"
   ]
  },
  {
   "cell_type": "code",
   "execution_count": 9,
   "metadata": {},
   "outputs": [
    {
     "data": {
      "text/plain": [
       "<Response [200]>"
      ]
     },
     "execution_count": 9,
     "metadata": {},
     "output_type": "execute_result"
    }
   ],
   "source": [
    "r = requests.get(\"https://data.covid19.go.id/public/api/update.json\")\n",
    "r"
   ]
  },
  {
   "cell_type": "code",
   "execution_count": 10,
   "metadata": {},
   "outputs": [],
   "source": [
    "data = r.json()"
   ]
  },
  {
   "cell_type": "code",
   "execution_count": 15,
   "metadata": {},
   "outputs": [],
   "source": [
    "df = pd.read_json('https://data.covid19.go.id/public/api/update.json')"
   ]
  },
  {
   "cell_type": "code",
   "execution_count": 16,
   "metadata": {},
   "outputs": [
    {
     "data": {
      "text/html": [
       "<div>\n",
       "<style scoped>\n",
       "    .dataframe tbody tr th:only-of-type {\n",
       "        vertical-align: middle;\n",
       "    }\n",
       "\n",
       "    .dataframe tbody tr th {\n",
       "        vertical-align: top;\n",
       "    }\n",
       "\n",
       "    .dataframe thead th {\n",
       "        text-align: right;\n",
       "    }\n",
       "</style>\n",
       "<table border=\"1\" class=\"dataframe\">\n",
       "  <thead>\n",
       "    <tr style=\"text-align: right;\">\n",
       "      <th></th>\n",
       "      <th>data</th>\n",
       "      <th>update</th>\n",
       "    </tr>\n",
       "  </thead>\n",
       "  <tbody>\n",
       "    <tr>\n",
       "      <th>id</th>\n",
       "      <td>1.0</td>\n",
       "      <td>NaN</td>\n",
       "    </tr>\n",
       "    <tr>\n",
       "      <th>jumlah_odp</th>\n",
       "      <td>57043.0</td>\n",
       "      <td>NaN</td>\n",
       "    </tr>\n",
       "    <tr>\n",
       "      <th>jumlah_pdp</th>\n",
       "      <td>0.0</td>\n",
       "      <td>NaN</td>\n",
       "    </tr>\n",
       "    <tr>\n",
       "      <th>total_spesimen</th>\n",
       "      <td>4790024.0</td>\n",
       "      <td>NaN</td>\n",
       "    </tr>\n",
       "    <tr>\n",
       "      <th>total_spesimen_negatif</th>\n",
       "      <td>2643002.0</td>\n",
       "      <td>NaN</td>\n",
       "    </tr>\n",
       "  </tbody>\n",
       "</table>\n",
       "</div>"
      ],
      "text/plain": [
       "                             data update\n",
       "id                            1.0    NaN\n",
       "jumlah_odp                57043.0    NaN\n",
       "jumlah_pdp                    0.0    NaN\n",
       "total_spesimen          4790024.0    NaN\n",
       "total_spesimen_negatif  2643002.0    NaN"
      ]
     },
     "execution_count": 16,
     "metadata": {},
     "output_type": "execute_result"
    }
   ],
   "source": [
    "df.head()"
   ]
  },
  {
   "cell_type": "code",
   "execution_count": null,
   "metadata": {},
   "outputs": [],
   "source": []
  }
 ],
 "metadata": {
  "kernelspec": {
   "display_name": "Python 3",
   "language": "python",
   "name": "python3"
  },
  "language_info": {
   "codemirror_mode": {
    "name": "ipython",
    "version": 3
   },
   "file_extension": ".py",
   "mimetype": "text/x-python",
   "name": "python",
   "nbconvert_exporter": "python",
   "pygments_lexer": "ipython3",
   "version": "3.8.3"
  }
 },
 "nbformat": 4,
 "nbformat_minor": 4
}
